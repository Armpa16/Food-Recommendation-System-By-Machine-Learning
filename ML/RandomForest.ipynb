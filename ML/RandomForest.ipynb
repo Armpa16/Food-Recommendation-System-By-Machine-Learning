{
 "cells": [
  {
   "cell_type": "code",
   "execution_count": 2,
   "id": "531a39d5",
   "metadata": {},
   "outputs": [
    {
     "name": "stdout",
     "output_type": "stream",
     "text": [
      "     calories  protein  carbohydrate  sugar    fat  sodium  category_encoded  \\\n",
      "0         107     1.35         24.30  21.50   0.11    22.0                 1   \n",
      "1         118     0.78         27.18  18.47   0.15     4.0                 1   \n",
      "2         101     1.55         21.73  19.17   0.42    26.0                 1   \n",
      "3          77     0.97         17.92   0.00   0.14    14.0                 1   \n",
      "4          37     0.81          8.07   8.15   0.07     4.0                 1   \n",
      "..        ...      ...           ...    ...    ...     ...               ...   \n",
      "255       439    17.00         68.00   2.00  11.00   720.0                 3   \n",
      "256        77     8.50          8.90   3.00   1.10  1419.0                 3   \n",
      "257       527    44.00          4.90   2.60  42.40   689.0                 3   \n",
      "258       183     2.50         38.00  15.00   2.30   220.0                 0   \n",
      "259       237     1.20         53.30   8.40   1.80     0.6                 0   \n",
      "\n",
      "     sugar_to_carb_ratio  fat_to_calorie_ratio  \n",
      "0               0.884774              0.001028  \n",
      "1               0.679544              0.001271  \n",
      "2               0.882191              0.004158  \n",
      "3               0.000000              0.001818  \n",
      "4               1.009913              0.001892  \n",
      "..                   ...                   ...  \n",
      "255             0.029412              0.025057  \n",
      "256             0.337079              0.014286  \n",
      "257             0.530612              0.080455  \n",
      "258             0.394737              0.012568  \n",
      "259             0.157598              0.007595  \n",
      "\n",
      "[260 rows x 9 columns]\n",
      "RandomForest Accuracy: 0.8846\n",
      "Classification Report:\n",
      "              precision    recall  f1-score   support\n",
      "\n",
      "   น้ำตาลต่ำ       0.91      0.91      0.91        23\n",
      "       สมดุล       0.83      0.62      0.71        16\n",
      "  โซเดียมต่ำ       0.91      1.00      0.95        20\n",
      "    ไขมันต่ำ       0.86      0.95      0.90        19\n",
      "\n",
      "    accuracy                           0.88        78\n",
      "   macro avg       0.88      0.87      0.87        78\n",
      "weighted avg       0.88      0.88      0.88        78\n",
      "\n"
     ]
    },
    {
     "data": {
      "image/png": "[encoded data removed]",
      "text/plain": [
       "<Figure size 800x600 with 2 Axes>"
      ]
     },
     "metadata": {},
     "output_type": "display_data"
    }
   ],
   "source": [
    "# --- นำเข้าคลังที่จำเป็น ---\n",
    "import pandas as pd\n",
    "import numpy as np\n",
    "from sklearn.model_selection import train_test_split\n",
    "\n",
    "from sklearn.ensemble import RandomForestClassifier\n",
    "from sklearn.metrics import classification_report, accuracy_score\n",
    "import matplotlib.pyplot as plt\n",
    "import seaborn as sns\n",
    "from sklearn.metrics import confusion_matrix\n",
    "from sklearn.preprocessing import LabelEncoder, StandardScaler\n",
    "from sklearn.impute import SimpleImputer\n",
    "\n",
    "# --- โหลดและเตรียมข้อมูล ---\n",
    "df = pd.read_csv('food_menu.csv')\n",
    "\n",
    "class_counts = df['food_type'].value_counts()\n",
    "max_count = class_counts.max()\n",
    "df_balanced = pd.DataFrame()\n",
    "\n",
    "for food_class, count in class_counts.items():\n",
    "    class_df = df[df['food_type'] == food_class]\n",
    "    if count < max_count:\n",
    "        repeat_factor = int(np.ceil(max_count / count))\n",
    "        class_df_duplicated = pd.concat([class_df] * repeat_factor, ignore_index=True)\n",
    "        class_df_balanced = class_df_duplicated.sample(n=max_count, random_state=42)\n",
    "    else:\n",
    "        class_df_balanced = class_df\n",
    "    df_balanced = pd.concat([df_balanced, class_df_balanced], ignore_index=True)\n",
    "\n",
    "df = df_balanced\n",
    "\n",
    "category_encoder = LabelEncoder()\n",
    "df['category_encoded'] = category_encoder.fit_transform(df['category'])\n",
    "\n",
    "df['sugar_to_carb_ratio'] = df['sugar'] / (df['carbohydrate'] + 1e-8)\n",
    "df['fat_to_calorie_ratio'] = df['fat'] / (df['calories'] + 1e-8)\n",
    "\n",
    "X = df[['calories', 'protein', 'carbohydrate', 'sugar', 'fat', 'sodium',\n",
    "        'category_encoded', 'sugar_to_carb_ratio', 'fat_to_calorie_ratio']]\n",
    "y = df['food_type']\n",
    "\n",
    "le = LabelEncoder()\n",
    "y_encoded = le.fit_transform(y)\n",
    "\n",
    "imputer = SimpleImputer(strategy='mean')\n",
    "X_imputed = imputer.fit_transform(X)\n",
    "\n",
    "scaler = StandardScaler()\n",
    "X_scaled = scaler.fit_transform(X_imputed)\n",
    "\n",
    "X_train, X_test, y_train, y_test = train_test_split(X_scaled, y_encoded, test_size=0.3, random_state=42)\n",
    "\n",
    "# --- สร้างและประเมินโมเดล RandomForest ---\n",
    "model = RandomForestClassifier(n_estimators=500, random_state=42)\n",
    "\n",
    "model.fit(X_train, y_train)\n",
    "y_pred = model.predict(X_test)\n",
    "\n",
    "acc = accuracy_score(y_test, y_pred)\n",
    "report = classification_report(y_test, y_pred, target_names=le.classes_)\n",
    "\n",
    "print(X)\n",
    "\n",
    "print(f\"RandomForest Accuracy: {acc:.4f}\")\n",
    "print(\"Classification Report:\")\n",
    "print(report)\n",
    "\n",
    "# --- สร้างและแสดง Confusion Matrix ---\n",
    "cm = confusion_matrix(y_test, y_pred)\n",
    "\n",
    "class_labels_en = ['Low Sugar', 'Balanced', 'Low Sodium', 'Low Fat']\n",
    "\n",
    "plt.figure(figsize=(8, 6))\n",
    "sns.heatmap(cm, annot=True, fmt='d', cmap='Blues',\n",
    "            xticklabels=class_labels_en, yticklabels=class_labels_en)\n",
    "\n",
    "plt.title('Confusion Matrix')\n",
    "plt.xlabel('Predicted Label')\n",
    "plt.ylabel('True Label')\n",
    "plt.show()\n",
    "\n",
    "\n",
    "\n"
   ]
  },
  {
   "cell_type": "code",
   "execution_count": 3,
   "id": "4e50cdb5",
   "metadata": {},
   "outputs": [
    {
     "data": {
      "text/plain": [
       "['category_encoder.pkl']"
      ]
     },
     "execution_count": 3,
     "metadata": {},
     "output_type": "execute_result"
    }
   ],
   "source": [
    "import joblib\n",
    "\n",
    "# บันทึก LabelEncoder ของ category (feature)\n",
    "category_encoder = LabelEncoder()\n",
    "df['category_encoded'] = category_encoder.fit_transform(df['category'])\n",
    "\n",
    "# บันทึกอ็อบเจ็กต์ทั้งหมด\n",
    "joblib.dump(model, 'random_forest_model.pkl')                # โมเดลหลัก\n",
    "joblib.dump(le, 'label_encoder.pkl')                         # LabelEncoder สำหรับ target (food_type)\n",
    "joblib.dump(imputer, 'imputer.pkl')                          # ตัวจัดการ missing\n",
    "joblib.dump(scaler, 'scaler.pkl')                            # ตัวปรับ scale\n",
    "joblib.dump(category_encoder, 'category_encoder.pkl')        # LabelEncoder สำหรับ category\n",
    "\n",
    "\n"
   ]
  }
 ],
 "metadata": {
  "kernelspec": {
   "display_name": "Python 3",
   "language": "python",
   "name": "python3"
  },
  "language_info": {
   "codemirror_mode": {
    "name": "ipython",
    "version": 3
   },
   "file_extension": ".py",
   "mimetype": "text/x-python",
   "name": "python",
   "nbconvert_exporter": "python",
   "pygments_lexer": "ipython3",
   "version": "3.13.0"
  }
 },
 "nbformat": 4,
 "nbformat_minor": 5
}
