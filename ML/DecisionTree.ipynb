{
 "cells": [
  {
   "cell_type": "code",
   "execution_count": 1,
   "id": "ad378c69",
   "metadata": {},
   "outputs": [
    {
     "name": "stdout",
     "output_type": "stream",
     "text": [
      "XGBoost Accuracy: 0.8077\n",
      "Classification Report:\n",
      "              precision    recall  f1-score   support\n",
      "\n",
      "   น้ำตาลต่ำ       0.86      0.78      0.82        23\n",
      "       สมดุล       0.69      0.56      0.62        16\n",
      "  โซเดียมต่ำ       0.90      0.90      0.90        20\n",
      "    ไขมันต่ำ       0.75      0.95      0.84        19\n",
      "\n",
      "    accuracy                           0.81        78\n",
      "   macro avg       0.80      0.80      0.79        78\n",
      "weighted avg       0.81      0.81      0.80        78\n",
      "\n"
     ]
    }
   ],
   "source": [
    "# --- นำเข้าคลังที่จำเป็น ---\n",
    "import pandas as pd\n",
    "import numpy as np\n",
    "from sklearn.model_selection import train_test_split\n",
    "from sklearn.preprocessing import LabelEncoder, StandardScaler\n",
    "from sklearn.impute import SimpleImputer\n",
    "from sklearn.tree import DecisionTreeClassifier\n",
    "from sklearn.metrics import classification_report, accuracy_score\n",
    "\n",
    "# --- โหลดและเตรียมข้อมูล ---\n",
    "df = pd.read_csv('food_menu.csv')\n",
    "\n",
    "class_counts = df['food_type'].value_counts()\n",
    "max_count = class_counts.max()\n",
    "df_balanced = pd.DataFrame()\n",
    "\n",
    "for food_class, count in class_counts.items():\n",
    "    class_df = df[df['food_type'] == food_class]\n",
    "    if count < max_count:\n",
    "        repeat_factor = int(np.ceil(max_count / count))\n",
    "        class_df_duplicated = pd.concat([class_df] * repeat_factor, ignore_index=True)\n",
    "        class_df_balanced = class_df_duplicated.sample(n=max_count, random_state=42)\n",
    "    else:\n",
    "        class_df_balanced = class_df\n",
    "    df_balanced = pd.concat([df_balanced, class_df_balanced], ignore_index=True)\n",
    "\n",
    "df = df_balanced\n",
    "\n",
    "df['category_encoded'] = LabelEncoder().fit_transform(df['category'])\n",
    "df['sugar_to_carb_ratio'] = df['sugar'] / (df['carbohydrate'] + 1e-8)\n",
    "df['fat_to_calorie_ratio'] = df['fat'] / (df['calories'] + 1e-8)\n",
    "\n",
    "X = df[['calories', 'protein', 'carbohydrate', 'sugar', 'fat', 'sodium',\n",
    "        'category_encoded', 'sugar_to_carb_ratio', 'fat_to_calorie_ratio']]\n",
    "y = df['food_type']\n",
    "\n",
    "le = LabelEncoder()\n",
    "y_encoded = le.fit_transform(y)\n",
    "\n",
    "imputer = SimpleImputer(strategy='mean')\n",
    "X_imputed = imputer.fit_transform(X)\n",
    "\n",
    "scaler = StandardScaler()\n",
    "X_scaled = scaler.fit_transform(X_imputed)\n",
    "\n",
    "X_train, X_test, y_train, y_test = train_test_split(X_scaled, y_encoded, test_size=0.3, random_state=42)\n",
    "\n",
    "# --- สร้างและประเมินโมเดล XGBoost ---\n",
    "model = DecisionTreeClassifier(criterion='entropy', random_state=42)\n",
    "\n",
    "model.fit(X_train, y_train)\n",
    "y_pred = model.predict(X_test)\n",
    "\n",
    "acc = accuracy_score(y_test, y_pred)\n",
    "report = classification_report(y_test, y_pred, target_names=le.classes_)\n",
    "\n",
    "print(f\"XGBoost Accuracy: {acc:.4f}\")\n",
    "print(\"Classification Report:\")\n",
    "print(report)"
   ]
  }
 ],
 "metadata": {
  "kernelspec": {
   "display_name": "Python 3",
   "language": "python",
   "name": "python3"
  },
  "language_info": {
   "codemirror_mode": {
    "name": "ipython",
    "version": 3
   },
   "file_extension": ".py",
   "mimetype": "text/x-python",
   "name": "python",
   "nbconvert_exporter": "python",
   "pygments_lexer": "ipython3",
   "version": "3.13.0"
  }
 },
 "nbformat": 4,
 "nbformat_minor": 5
}
